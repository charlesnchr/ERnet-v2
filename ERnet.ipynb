{
 "cells": [
  {
   "cell_type": "markdown",
   "metadata": {
    "id": "8AJQiAMTJ9oN"
   },
   "source": [
    "# ERnet Transformer"
   ]
  },
  {
   "cell_type": "markdown",
   "metadata": {},
   "source": [
    "# Table of Contents\n",
    "\n",
    "- [1. Install packages](#install)\n",
    "- [2. Download files](#download)\n",
    "- [3. Functions](#functions)\n",
    "- [4. Inference](#inference)\n",
    "    - [a. Single images](#single)\n",
    "    - [b. Batch processing](#batch)"
   ]
  },
  {
   "cell_type": "markdown",
   "metadata": {
    "id": "liwgBQHDZsn7"
   },
   "source": [
    "<a id='install'></a>\n",
    "## 1. Install packages"
   ]
  },
  {
   "cell_type": "code",
   "execution_count": null,
   "metadata": {
    "id": "9n3Rl9rNYUDb"
   },
   "outputs": [],
   "source": [
    "!pip install sknw timm einops"
   ]
  },
  {
   "cell_type": "markdown",
   "metadata": {
    "id": "0u4p9riiJ9oO"
   },
   "source": [
    "<a id='download'></a>\n",
    "## 2. Download files"
   ]
  },
  {
   "cell_type": "code",
   "execution_count": null,
   "metadata": {
    "id": "daPfApKTJ9oO"
   },
   "outputs": [],
   "source": [
    "# architectures\n",
    "!mkdir -p archs\n",
    "!wget https://raw.githubusercontent.com/charlesnchr/ERnet-v2/main/Training/archs/swinir_rcab_arch.py -P Training/archs\n",
    "!wget https://raw.githubusercontent.com/charlesnchr/ERnet-v2/main/Training/archs/rcan_arch.py -P Training/archs\n",
    "\n",
    "# inference code\n",
    "!wget https://raw.githubusercontent.com/charlesnchr/ERnet-v2/main/Inference/model_evaluation.py -P Inference\n",
    "!wget https://raw.githubusercontent.com/charlesnchr/ERnet-v2/main/Inference/graph_processing.py -P Inference\n",
    "\n",
    "# models\n",
    "!mkdir -p models\n",
    "!wget https://github.com/charlesnchr/ERnet-v2/releases/download/v2.0/20220306_ER_4class_swinir_nch1.pth -P models\n",
    "\n",
    "# image files\n",
    "!mkdir -p images\n",
    "!wget https://github.com/charlesnchr/ERnet-v2/releases/download/v2.0/TestImage1.png -P images\n",
    "!wget https://github.com/charlesnchr/ERnet-v2/releases/download/v2.0/TestImage2.png -P images\n",
    "!wget https://github.com/charlesnchr/ERnet-v2/releases/download/v2.0/TestImage3-stack.tif -P images\n",
    "!wget https://github.com/charlesnchr/ERnet-v2/releases/download/v2.0/TestImage4-stack.tif -P images"
   ]
  },
  {
   "cell_type": "markdown",
   "metadata": {
    "id": "NnNe5Pb4ZxG2",
    "jp-MarkdownHeadingCollapsed": true,
    "tags": []
   },
   "source": [
    "<a id='functions'></a>\n",
    "# 3. Functions"
   ]
  },
  {
   "cell_type": "code",
   "execution_count": 18,
   "metadata": {
    "id": "_LcNOeqlViYJ"
   },
   "outputs": [],
   "source": [
    "%reload_ext autoreload\n",
    "%autoreload 2\n",
    "\n",
    "# Imports\n",
    "import os\n",
    "import datetime\n",
    "import math\n",
    "import time\n",
    "from skimage import io\n",
    "import os\n",
    "from argparse import Namespace\n",
    "import sys\n",
    "\n",
    "# Load code from repository (ERnet architecture + inference code)\n",
    "dirs = [\"Training/archs\", \"Inference\"]\n",
    "[sys.path.append(os.path.abspath(f)) for f in dirs]\n",
    "from Inference import model_evaluation\n",
    "\n",
    "\n",
    "def segment(\n",
    "    exportdir,\n",
    "    filepaths,\n",
    "    weka_colours,\n",
    "    stats_tubule_sheet,\n",
    "    graph_metrics,\n",
    "    save_in_original_folders,\n",
    "    save_input=True,\n",
    "):\n",
    "    opt = Namespace()\n",
    "    opt.root = filepaths\n",
    "    opt.ext = [\"jpg\", \"png\", \"tif\"]\n",
    "    opt.stats_tubule_sheet = stats_tubule_sheet\n",
    "    opt.graph_metrics = graph_metrics\n",
    "    opt.weka_colours = weka_colours\n",
    "    opt.save_input = save_input\n",
    "\n",
    "    opt.exportdir = exportdir\n",
    "    os.makedirs(exportdir, exist_ok=True)\n",
    "    opt.jobname = datetime.datetime.utcnow().strftime(\"%Y%m%d%H%M%S%f\")[:-3]\n",
    "\n",
    "    if stats_tubule_sheet:\n",
    "        csvfid_path = \"%s/%s_stats_tubule_sheet.csv\" % (opt.exportdir, opt.jobname)\n",
    "        opt.csvfid = open(csvfid_path, \"w\")\n",
    "\n",
    "    if opt.graph_metrics:\n",
    "        graphfid_path = \"%s/%s_graph_metrics.csv\" % (opt.exportdir, opt.jobname)\n",
    "        opt.graphfid = open(graphfid_path, \"w\")\n",
    "\n",
    "    ## model specific\n",
    "    opt.imageSize = 600\n",
    "    opt.n_resblocks = 10\n",
    "    opt.n_resgroups = 3\n",
    "    opt.n_feats = 64\n",
    "    opt.reduction = 16\n",
    "    opt.narch = 0\n",
    "    opt.norm = None\n",
    "    opt.nch_in = 1\n",
    "    opt.nch_out = 4\n",
    "    opt.cpu = False\n",
    "    opt.weights = model\n",
    "    opt.scale = 1\n",
    "\n",
    "    if save_in_original_folders:\n",
    "        opt.out = \"root\"\n",
    "\n",
    "    print(vars(opt))\n",
    "\n",
    "    return model_evaluation.EvaluateModel(opt)"
   ]
  },
  {
   "cell_type": "markdown",
   "metadata": {
    "id": "G8vadne_aaDF"
   },
   "source": [
    "<a id='inference'></a>\n",
    "# 4. Inference"
   ]
  },
  {
   "cell_type": "markdown",
   "metadata": {
    "id": "Cwxb4fJ8YP4v"
   },
   "source": [
    "<a id='single'></a>\n",
    "## a. Example of using ERnet Transformer on single images"
   ]
  },
  {
   "cell_type": "code",
   "execution_count": null,
   "metadata": {
    "id": "Pde0bWrnYP4w"
   },
   "outputs": [],
   "source": [
    "exportdir = 'output'\n",
    "filepaths = ['images/TestImage1.png','images/TestImage2.png']\n",
    "model = 'models/20220306_ER_4class_swinir_nch1.pth'\n",
    "weka_colours = False\n",
    "stats_tubule_sheet = True\n",
    "graph_metrics = True\n",
    "save_in_original_folders = True\n",
    "outpaths = segment(exportdir,filepaths,weka_colours,stats_tubule_sheet,graph_metrics,save_in_original_folders,model)\n"
   ]
  },
  {
   "cell_type": "markdown",
   "metadata": {
    "id": "gXPU8FCyYP4y",
    "tags": []
   },
   "source": [
    "### Visualise result"
   ]
  },
  {
   "cell_type": "code",
   "execution_count": null,
   "metadata": {
    "id": "k3ms6jaGYP4z"
   },
   "outputs": [],
   "source": [
    "import matplotlib.pyplot as plt\n",
    "%matplotlib inline\n",
    "plt.clf()\n",
    "\n",
    "# output files per input file\n",
    "n = len(outpaths)//len(filepaths)\n",
    "\n",
    "for idx, inpath in enumerate(filepaths):\n",
    "\n",
    "    outpath = [outpaths[i] for i in range(idx*n, (idx+1)*n )]\n",
    "\n",
    "    plt.figure(figsize=(20,10))\n",
    "    plt.subplot(221)\n",
    "    plt.imshow(io.imread(inpath))\n",
    "    plt.title('Input %d: %s' % (idx+1,inpath))\n",
    "    plt.subplot(222)\n",
    "    plt.imshow(io.imread(outpath[0]))\n",
    "    plt.title('Output %d' % (idx+1))\n",
    "\n",
    "    plt.subplot(223)\n",
    "    plt.imshow(io.imread(outpath[1]))\n",
    "    plt.title('Graph representation %d' % (idx+1))\n",
    "    plt.subplot(224)\n",
    "    plt.imshow(io.imread(outpath[2]))\n",
    "    plt.title('Degree histogram %d' % (idx+1))\n",
    "plt.show()"
   ]
  },
  {
   "cell_type": "markdown",
   "metadata": {
    "id": "e1CpyiRHLp6a"
   },
   "source": [
    "<a id='batch'></a>\n",
    "## b. Example of batch processing"
   ]
  },
  {
   "cell_type": "markdown",
   "metadata": {},
   "source": [
    "`TestImage3-stack.tif` consists of 5 frames\n",
    "\n",
    "`TestImage4-stack.tif` consists of 30 frames"
   ]
  },
  {
   "cell_type": "code",
   "execution_count": null,
   "metadata": {
    "id": "RXeTfPg-Lp6b"
   },
   "outputs": [],
   "source": [
    "exportdir = 'output'\n",
    "filepaths = ['images/TestImage3-stack.tif','images/TestImage4-stack.tif']\n",
    "model = 'models/20220306_ER_4class_swinir_nch1.pth'\n",
    "weka_colours = False\n",
    "stats_tubule_sheet = True\n",
    "graph_metrics = True\n",
    "save_in_original_folders = True\n",
    "outpaths = segment(exportdir,filepaths,weka_colours,stats_tubule_sheet,graph_metrics,save_in_original_folders,model)"
   ]
  }
 ],
 "metadata": {
  "accelerator": "GPU",
  "colab": {
   "collapsed_sections": [
    "Wdav5aChaWr7",
    "0khBXikThClT",
    "7j6l8aRGZYF6"
   ],
   "name": "ERnet.ipynb",
   "provenance": []
  },
  "kernelspec": {
   "display_name": "Python 3 (ipykernel)",
   "language": "python",
   "name": "python3"
  },
  "language_info": {
   "codemirror_mode": {
    "name": "ipython",
    "version": 3
   },
   "file_extension": ".py",
   "mimetype": "text/x-python",
   "name": "python",
   "nbconvert_exporter": "python",
   "pygments_lexer": "ipython3",
   "version": "3.9.11"
  }
 },
 "nbformat": 4,
 "nbformat_minor": 4
}
